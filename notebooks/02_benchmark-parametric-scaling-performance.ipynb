{
 "cells": [
  {
   "cell_type": "markdown",
   "metadata": {},
   "source": [
    "# Internal performance comparison of GAlibrate's core genetic algorithm implementations\n",
    "\n",
    "A few years ago, I tested the performance and scaling of [GAlibrate](https://github.com/blakeaw/GAlibrate)'s different implementations in pure Python, Numba, and Cython: [gao_implementation_scaling_comparison.ipynb](https://github.com/blakeaw/galibrate_performance_comparison/blob/master/gao_implementation_scaling_comparison.ipynb). \n",
    "\n",
    "In this notebook, we will redo this performance and scaling analysis to see how a recent implementation that ports key functions to Julia using the PyJulia package compares to the Python, Numba, and Cython versions. \n",
    "\n",
    "As with the previous analysis, we'll compare how each implementation scales with the number of parameters (or dimensionality), population size, and the number of generations, as well as their relative performance to the pure Python implementation. Note, however, that we are using a different benchmark function this time.\n",
    "\n",
    "To run this notebook we need to have galibrate installed along with Numba, Cython, Julia, and PyJulia.  You also need pandas, matplotlib, and microbench packages.\n",
    "\n",
    "\n",
    "------\n",
    "\n",
    "## Imports and setup\n",
    "\n",
    "First we'll do all our imports:"
   ]
  },
  {
   "cell_type": "code",
   "execution_count": 1,
   "metadata": {},
   "outputs": [],
   "source": [
    "# Non-galibrate imports\n",
    "import os\n",
    "import numpy as np\n",
    "import pandas as pd\n",
    "import matplotlib.pyplot as plt\n",
    "# Notebook magic to inline plots\n",
    "%matplotlib inline"
   ]
  },
  {
   "cell_type": "code",
   "execution_count": 61,
   "metadata": {},
   "outputs": [],
   "source": [
    "import cython, numba, matplotlib, julia"
   ]
  },
  {
   "cell_type": "code",
   "execution_count": 3,
   "metadata": {},
   "outputs": [
    {
     "name": "stderr",
     "output_type": "stream",
     "text": [
      "c:\\users\\bwils\\documents\\dev_src\\personal\\galibrate\\galibrate\\gao.py:13: RuntimeWarning: ------Running GAO with numba optimization.------\n",
      "  warnings.warn(\"------Running GAO with numba optimization.------\", RuntimeWarning)\n"
     ]
    }
   ],
   "source": [
    "# galibrate imports\n",
    "import galibrate\n",
    "from galibrate import gao\n",
    "from galibrate.sampled_parameter import SampledParameter"
   ]
  },
  {
   "cell_type": "code",
   "execution_count": 4,
   "metadata": {},
   "outputs": [],
   "source": [
    "#from allversions import *"
   ]
  },
  {
   "cell_type": "code",
   "execution_count": 5,
   "metadata": {},
   "outputs": [],
   "source": [
    "# Manually import each of the run_gao modules -- normally galibrate does this internally\n",
    "# and automatically assigns the version based whether Numba and/or Cython are installed.\n",
    "# Python-only\n",
    "from galibrate import run_gao_py\n"
   ]
  },
  {
   "cell_type": "code",
   "execution_count": 6,
   "metadata": {},
   "outputs": [],
   "source": [
    "# Numba accelerated\n",
    "from galibrate import run_gao_numba"
   ]
  },
  {
   "cell_type": "code",
   "execution_count": 7,
   "metadata": {},
   "outputs": [],
   "source": [
    "# Cython accelerated -- uses pyximport\n",
    "import pyximport; pyximport.install(language_level=3, setup_args={\"include_dirs\":np.get_include()})\n",
    "from galibrate import run_gao_cython"
   ]
  },
  {
   "cell_type": "code",
   "execution_count": 8,
   "metadata": {},
   "outputs": [],
   "source": [
    "%%capture\n",
    "# Julia accelerated\n",
    "from galibrate import run_gao_julia"
   ]
  },
  {
   "cell_type": "markdown",
   "metadata": {},
   "source": [
    "And we'll setup a custom Bench from microbench to capture some key info about the Python version and some of the library versions:"
   ]
  },
  {
   "cell_type": "code",
   "execution_count": 9,
   "metadata": {},
   "outputs": [],
   "source": [
    "# Setup a microbench for meta data collection\n",
    "from microbench import MicroBench, MBCondaPackages, MBHostInfo, MBPythonVersion\n",
    "\n",
    "class GaoBench(MicroBench, MBHostInfo, MBPythonVersion):\n",
    "    capture_versions = (np, cython, numba, julia)\n",
    "\n",
    "   "
   ]
  },
  {
   "cell_type": "code",
   "execution_count": 10,
   "metadata": {},
   "outputs": [],
   "source": [
    "gaobench = GaoBench()\n",
    "\n",
    "@gaobench\n",
    "def meta():\n",
    "    pass\n",
    "    \n",
    "meta() "
   ]
  },
  {
   "cell_type": "code",
   "execution_count": 11,
   "metadata": {},
   "outputs": [],
   "source": [
    "bench_results = pd.read_json(gaobench.outfile.getvalue(), lines=True)"
   ]
  },
  {
   "cell_type": "code",
   "execution_count": 12,
   "metadata": {},
   "outputs": [
    {
     "data": {
      "text/plain": [
       "'3.10.11'"
      ]
     },
     "execution_count": 12,
     "metadata": {},
     "output_type": "execute_result"
    }
   ],
   "source": [
    "# Python version\n",
    "bench_results['python_version'][0]"
   ]
  },
  {
   "cell_type": "code",
   "execution_count": 13,
   "metadata": {},
   "outputs": [
    {
     "name": "stdout",
     "output_type": "stream",
     "text": [
      "{'numpy': '1.23.5', 'cython': '0.29.33', 'numba': '0.56.4', 'julia': '0.6.1'}\n"
     ]
    }
   ],
   "source": [
    "# Here julia is the PyJulia package.\n",
    "for pack in bench_results['package_versions']:\n",
    "    print(pack)"
   ]
  },
  {
   "cell_type": "markdown",
   "metadata": {},
   "source": [
    "Using Julia version 1.9.2"
   ]
  },
  {
   "cell_type": "markdown",
   "metadata": {},
   "source": [
    "#### OS and hardware\n",
    "\n",
    "  * Windows 11 - 64-bit operating system, x64-based processor\n",
    "  * Processor: 11th Gen Intel(R) Core(TM) i7-11800H @ 2.30GHz   2.30 GHz\n",
    "  * RAM: 16.0 GB (15.6 GB usable)"
   ]
  },
  {
   "cell_type": "markdown",
   "metadata": {},
   "source": [
    "## Model problem and fitness function\n",
    "\n",
    "For the purposes of this testing, we'll use the N-dimensional sphere function defined in `galibrate.benchmarks` with a parameter search in \\[-100:100\\].\n",
    "\n",
    "Here is the fitness function:"
   ]
  },
  {
   "cell_type": "code",
   "execution_count": 14,
   "metadata": {},
   "outputs": [],
   "source": [
    "from galibrate.benchmarks import sphere\n",
    "\n",
    "def fitness(chromosome):\n",
    "    return -sphere(chromosome)"
   ]
  },
  {
   "cell_type": "markdown",
   "metadata": {},
   "source": [
    "------"
   ]
  },
  {
   "cell_type": "markdown",
   "metadata": {},
   "source": [
    "## Scaling with the number of parameters (dimensionality)\n",
    "\n",
    "We'll start by examining the scaling with the number of parameters while holding the population size and number of generations fixed."
   ]
  },
  {
   "cell_type": "code",
   "execution_count": 15,
   "metadata": {},
   "outputs": [],
   "source": [
    "# Define the parameters for the GAO.\n",
    "# Here, we are scaling the number of model parameters or dimensionality.\n",
    "# We'll consider up to 1000 parameters.\n",
    "ndims = list([3, 10, 20, 50, 100, 200, 500, 800, 1000])\n",
    "# We'll fix the population size at 100:\n",
    "popsize = 100\n",
    "# And the number of generations also to 100:\n",
    "generations = 100"
   ]
  },
  {
   "cell_type": "code",
   "execution_count": 16,
   "metadata": {},
   "outputs": [],
   "source": [
    "def scaling_dimensions(ndims, version=None, popsize=1000, generations=100):\n",
    "    if version is not None:\n",
    "        gao.run_gao = version\n",
    "    timings = dict()\n",
    "    timings['n_dim'] = list()\n",
    "    timings['avg_time'] = list()\n",
    "    timings['std_dev'] = list()\n",
    "    # Loop over the dimensionality (number of parameters)\n",
    "    for ndim in ndims:\n",
    "        print(\"Doing ndim: \", ndim)\n",
    "        timings['n_dim'].append(ndim)\n",
    "        sampled_parameters = [SampledParameter(name=i, loc=-100.0, width=200.0) for i in range(ndim)]\n",
    "        go = gao.GAO(sampled_parameters, fitness, popsize, generations=generations)\n",
    "        #print(ndim, popsize, gen)\n",
    "        ti = %timeit -n 10 -r 2 -o -q go.run()\n",
    "        timings['avg_time'].append(ti.average)\n",
    "        timings['std_dev'].append(ti.stdev)\n",
    "        print(ti)\n",
    "    timings = pd.DataFrame(timings)\n",
    "    return timings"
   ]
  },
  {
   "cell_type": "code",
   "execution_count": 17,
   "metadata": {},
   "outputs": [
    {
     "name": "stdout",
     "output_type": "stream",
     "text": [
      "Doing ndim:  3\n",
      "121 ms ± 5.36 ms per loop (mean ± std. dev. of 2 runs, 10 loops each)\n",
      "Doing ndim:  10\n",
      "141 ms ± 1.14 ms per loop (mean ± std. dev. of 2 runs, 10 loops each)\n",
      "Doing ndim:  20\n",
      "176 ms ± 3.34 ms per loop (mean ± std. dev. of 2 runs, 10 loops each)\n",
      "Doing ndim:  50\n",
      "260 ms ± 1.55 ms per loop (mean ± std. dev. of 2 runs, 10 loops each)\n",
      "Doing ndim:  100\n",
      "439 ms ± 21.2 ms per loop (mean ± std. dev. of 2 runs, 10 loops each)\n",
      "Doing ndim:  200\n",
      "712 ms ± 3.74 ms per loop (mean ± std. dev. of 2 runs, 10 loops each)\n",
      "Doing ndim:  500\n",
      "1.63 s ± 22.6 ms per loop (mean ± std. dev. of 2 runs, 10 loops each)\n",
      "Doing ndim:  800\n",
      "2.5 s ± 20.4 ms per loop (mean ± std. dev. of 2 runs, 10 loops each)\n",
      "Doing ndim:  1000\n",
      "3.07 s ± 30.8 ms per loop (mean ± std. dev. of 2 runs, 10 loops each)\n"
     ]
    },
    {
     "data": {
      "text/html": [
       "<div>\n",
       "<style scoped>\n",
       "    .dataframe tbody tr th:only-of-type {\n",
       "        vertical-align: middle;\n",
       "    }\n",
       "\n",
       "    .dataframe tbody tr th {\n",
       "        vertical-align: top;\n",
       "    }\n",
       "\n",
       "    .dataframe thead th {\n",
       "        text-align: right;\n",
       "    }\n",
       "</style>\n",
       "<table border=\"1\" class=\"dataframe\">\n",
       "  <thead>\n",
       "    <tr style=\"text-align: right;\">\n",
       "      <th></th>\n",
       "      <th>n_dim</th>\n",
       "      <th>avg_time</th>\n",
       "      <th>std_dev</th>\n",
       "    </tr>\n",
       "  </thead>\n",
       "  <tbody>\n",
       "    <tr>\n",
       "      <th>0</th>\n",
       "      <td>3</td>\n",
       "      <td>0.121270</td>\n",
       "      <td>0.005363</td>\n",
       "    </tr>\n",
       "    <tr>\n",
       "      <th>1</th>\n",
       "      <td>10</td>\n",
       "      <td>0.140619</td>\n",
       "      <td>0.001135</td>\n",
       "    </tr>\n",
       "    <tr>\n",
       "      <th>2</th>\n",
       "      <td>20</td>\n",
       "      <td>0.175539</td>\n",
       "      <td>0.003338</td>\n",
       "    </tr>\n",
       "    <tr>\n",
       "      <th>3</th>\n",
       "      <td>50</td>\n",
       "      <td>0.259961</td>\n",
       "      <td>0.001554</td>\n",
       "    </tr>\n",
       "    <tr>\n",
       "      <th>4</th>\n",
       "      <td>100</td>\n",
       "      <td>0.438922</td>\n",
       "      <td>0.021184</td>\n",
       "    </tr>\n",
       "    <tr>\n",
       "      <th>5</th>\n",
       "      <td>200</td>\n",
       "      <td>0.712473</td>\n",
       "      <td>0.003740</td>\n",
       "    </tr>\n",
       "    <tr>\n",
       "      <th>6</th>\n",
       "      <td>500</td>\n",
       "      <td>1.631512</td>\n",
       "      <td>0.022559</td>\n",
       "    </tr>\n",
       "    <tr>\n",
       "      <th>7</th>\n",
       "      <td>800</td>\n",
       "      <td>2.503926</td>\n",
       "      <td>0.020377</td>\n",
       "    </tr>\n",
       "    <tr>\n",
       "      <th>8</th>\n",
       "      <td>1000</td>\n",
       "      <td>3.067354</td>\n",
       "      <td>0.030776</td>\n",
       "    </tr>\n",
       "  </tbody>\n",
       "</table>\n",
       "</div>"
      ],
      "text/plain": [
       "   n_dim  avg_time   std_dev\n",
       "0      3  0.121270  0.005363\n",
       "1     10  0.140619  0.001135\n",
       "2     20  0.175539  0.003338\n",
       "3     50  0.259961  0.001554\n",
       "4    100  0.438922  0.021184\n",
       "5    200  0.712473  0.003740\n",
       "6    500  1.631512  0.022559\n",
       "7    800  2.503926  0.020377\n",
       "8   1000  3.067354  0.030776"
      ]
     },
     "execution_count": 17,
     "metadata": {},
     "output_type": "execute_result"
    }
   ],
   "source": [
    "timings_py = scaling_dimensions(ndims, version=run_gao_py, popsize=popsize, generations=generations)\n",
    "timings_py"
   ]
  },
  {
   "cell_type": "code",
   "execution_count": 18,
   "metadata": {},
   "outputs": [
    {
     "name": "stdout",
     "output_type": "stream",
     "text": [
      "Doing ndim:  3\n",
      "49 ms ± 10.4 ms per loop (mean ± std. dev. of 2 runs, 10 loops each)\n",
      "Doing ndim:  10\n",
      "43.3 ms ± 1.11 ms per loop (mean ± std. dev. of 2 runs, 10 loops each)\n",
      "Doing ndim:  20\n",
      "40.7 ms ± 851 µs per loop (mean ± std. dev. of 2 runs, 10 loops each)\n",
      "Doing ndim:  50\n",
      "46.9 ms ± 203 µs per loop (mean ± std. dev. of 2 runs, 10 loops each)\n",
      "Doing ndim:  100\n",
      "48.5 ms ± 154 µs per loop (mean ± std. dev. of 2 runs, 10 loops each)\n",
      "Doing ndim:  200\n",
      "53.6 ms ± 4.5 ms per loop (mean ± std. dev. of 2 runs, 10 loops each)\n",
      "Doing ndim:  500\n",
      "66.3 ms ± 747 µs per loop (mean ± std. dev. of 2 runs, 10 loops each)\n",
      "Doing ndim:  800\n",
      "94.2 ms ± 937 µs per loop (mean ± std. dev. of 2 runs, 10 loops each)\n",
      "Doing ndim:  1000\n",
      "108 ms ± 3.53 ms per loop (mean ± std. dev. of 2 runs, 10 loops each)\n"
     ]
    },
    {
     "data": {
      "text/html": [
       "<div>\n",
       "<style scoped>\n",
       "    .dataframe tbody tr th:only-of-type {\n",
       "        vertical-align: middle;\n",
       "    }\n",
       "\n",
       "    .dataframe tbody tr th {\n",
       "        vertical-align: top;\n",
       "    }\n",
       "\n",
       "    .dataframe thead th {\n",
       "        text-align: right;\n",
       "    }\n",
       "</style>\n",
       "<table border=\"1\" class=\"dataframe\">\n",
       "  <thead>\n",
       "    <tr style=\"text-align: right;\">\n",
       "      <th></th>\n",
       "      <th>n_dim</th>\n",
       "      <th>avg_time</th>\n",
       "      <th>std_dev</th>\n",
       "    </tr>\n",
       "  </thead>\n",
       "  <tbody>\n",
       "    <tr>\n",
       "      <th>0</th>\n",
       "      <td>3</td>\n",
       "      <td>0.048961</td>\n",
       "      <td>0.010367</td>\n",
       "    </tr>\n",
       "    <tr>\n",
       "      <th>1</th>\n",
       "      <td>10</td>\n",
       "      <td>0.043309</td>\n",
       "      <td>0.001114</td>\n",
       "    </tr>\n",
       "    <tr>\n",
       "      <th>2</th>\n",
       "      <td>20</td>\n",
       "      <td>0.040693</td>\n",
       "      <td>0.000851</td>\n",
       "    </tr>\n",
       "    <tr>\n",
       "      <th>3</th>\n",
       "      <td>50</td>\n",
       "      <td>0.046875</td>\n",
       "      <td>0.000203</td>\n",
       "    </tr>\n",
       "    <tr>\n",
       "      <th>4</th>\n",
       "      <td>100</td>\n",
       "      <td>0.048539</td>\n",
       "      <td>0.000154</td>\n",
       "    </tr>\n",
       "    <tr>\n",
       "      <th>5</th>\n",
       "      <td>200</td>\n",
       "      <td>0.053567</td>\n",
       "      <td>0.004498</td>\n",
       "    </tr>\n",
       "    <tr>\n",
       "      <th>6</th>\n",
       "      <td>500</td>\n",
       "      <td>0.066299</td>\n",
       "      <td>0.000747</td>\n",
       "    </tr>\n",
       "    <tr>\n",
       "      <th>7</th>\n",
       "      <td>800</td>\n",
       "      <td>0.094159</td>\n",
       "      <td>0.000937</td>\n",
       "    </tr>\n",
       "    <tr>\n",
       "      <th>8</th>\n",
       "      <td>1000</td>\n",
       "      <td>0.107998</td>\n",
       "      <td>0.003527</td>\n",
       "    </tr>\n",
       "  </tbody>\n",
       "</table>\n",
       "</div>"
      ],
      "text/plain": [
       "   n_dim  avg_time   std_dev\n",
       "0      3  0.048961  0.010367\n",
       "1     10  0.043309  0.001114\n",
       "2     20  0.040693  0.000851\n",
       "3     50  0.046875  0.000203\n",
       "4    100  0.048539  0.000154\n",
       "5    200  0.053567  0.004498\n",
       "6    500  0.066299  0.000747\n",
       "7    800  0.094159  0.000937\n",
       "8   1000  0.107998  0.003527"
      ]
     },
     "execution_count": 18,
     "metadata": {},
     "output_type": "execute_result"
    }
   ],
   "source": [
    "timings_numba = scaling_dimensions(ndims, version=run_gao_numba, popsize=popsize, generations=generations)\n",
    "timings_numba"
   ]
  },
  {
   "cell_type": "code",
   "execution_count": 19,
   "metadata": {},
   "outputs": [
    {
     "name": "stdout",
     "output_type": "stream",
     "text": [
      "Doing ndim:  3\n",
      "44.7 ms ± 4.47 ms per loop (mean ± std. dev. of 2 runs, 10 loops each)\n",
      "Doing ndim:  10\n",
      "43.4 ms ± 2.98 ms per loop (mean ± std. dev. of 2 runs, 10 loops each)\n",
      "Doing ndim:  20\n",
      "42.3 ms ± 1.29 ms per loop (mean ± std. dev. of 2 runs, 10 loops each)\n",
      "Doing ndim:  50\n",
      "46.6 ms ± 2.09 ms per loop (mean ± std. dev. of 2 runs, 10 loops each)\n",
      "Doing ndim:  100\n",
      "54.8 ms ± 5.7 ms per loop (mean ± std. dev. of 2 runs, 10 loops each)\n",
      "Doing ndim:  200\n",
      "64.9 ms ± 2.85 ms per loop (mean ± std. dev. of 2 runs, 10 loops each)\n",
      "Doing ndim:  500\n",
      "105 ms ± 1.13 ms per loop (mean ± std. dev. of 2 runs, 10 loops each)\n",
      "Doing ndim:  800\n",
      "129 ms ± 633 µs per loop (mean ± std. dev. of 2 runs, 10 loops each)\n",
      "Doing ndim:  1000\n",
      "167 ms ± 3.72 ms per loop (mean ± std. dev. of 2 runs, 10 loops each)\n"
     ]
    },
    {
     "data": {
      "text/html": [
       "<div>\n",
       "<style scoped>\n",
       "    .dataframe tbody tr th:only-of-type {\n",
       "        vertical-align: middle;\n",
       "    }\n",
       "\n",
       "    .dataframe tbody tr th {\n",
       "        vertical-align: top;\n",
       "    }\n",
       "\n",
       "    .dataframe thead th {\n",
       "        text-align: right;\n",
       "    }\n",
       "</style>\n",
       "<table border=\"1\" class=\"dataframe\">\n",
       "  <thead>\n",
       "    <tr style=\"text-align: right;\">\n",
       "      <th></th>\n",
       "      <th>n_dim</th>\n",
       "      <th>avg_time</th>\n",
       "      <th>std_dev</th>\n",
       "    </tr>\n",
       "  </thead>\n",
       "  <tbody>\n",
       "    <tr>\n",
       "      <th>0</th>\n",
       "      <td>3</td>\n",
       "      <td>0.044739</td>\n",
       "      <td>0.004473</td>\n",
       "    </tr>\n",
       "    <tr>\n",
       "      <th>1</th>\n",
       "      <td>10</td>\n",
       "      <td>0.043425</td>\n",
       "      <td>0.002979</td>\n",
       "    </tr>\n",
       "    <tr>\n",
       "      <th>2</th>\n",
       "      <td>20</td>\n",
       "      <td>0.042292</td>\n",
       "      <td>0.001292</td>\n",
       "    </tr>\n",
       "    <tr>\n",
       "      <th>3</th>\n",
       "      <td>50</td>\n",
       "      <td>0.046605</td>\n",
       "      <td>0.002093</td>\n",
       "    </tr>\n",
       "    <tr>\n",
       "      <th>4</th>\n",
       "      <td>100</td>\n",
       "      <td>0.054816</td>\n",
       "      <td>0.005696</td>\n",
       "    </tr>\n",
       "    <tr>\n",
       "      <th>5</th>\n",
       "      <td>200</td>\n",
       "      <td>0.064892</td>\n",
       "      <td>0.002853</td>\n",
       "    </tr>\n",
       "    <tr>\n",
       "      <th>6</th>\n",
       "      <td>500</td>\n",
       "      <td>0.104800</td>\n",
       "      <td>0.001128</td>\n",
       "    </tr>\n",
       "    <tr>\n",
       "      <th>7</th>\n",
       "      <td>800</td>\n",
       "      <td>0.128886</td>\n",
       "      <td>0.000633</td>\n",
       "    </tr>\n",
       "    <tr>\n",
       "      <th>8</th>\n",
       "      <td>1000</td>\n",
       "      <td>0.166939</td>\n",
       "      <td>0.003724</td>\n",
       "    </tr>\n",
       "  </tbody>\n",
       "</table>\n",
       "</div>"
      ],
      "text/plain": [
       "   n_dim  avg_time   std_dev\n",
       "0      3  0.044739  0.004473\n",
       "1     10  0.043425  0.002979\n",
       "2     20  0.042292  0.001292\n",
       "3     50  0.046605  0.002093\n",
       "4    100  0.054816  0.005696\n",
       "5    200  0.064892  0.002853\n",
       "6    500  0.104800  0.001128\n",
       "7    800  0.128886  0.000633\n",
       "8   1000  0.166939  0.003724"
      ]
     },
     "execution_count": 19,
     "metadata": {},
     "output_type": "execute_result"
    }
   ],
   "source": [
    "timings_cython = scaling_dimensions(ndims, version=run_gao_cython, popsize=popsize, generations=generations)\n",
    "timings_cython"
   ]
  },
  {
   "cell_type": "code",
   "execution_count": 20,
   "metadata": {},
   "outputs": [
    {
     "name": "stdout",
     "output_type": "stream",
     "text": [
      "Doing ndim:  3\n",
      "352 ms ± 52.4 ms per loop (mean ± std. dev. of 2 runs, 10 loops each)\n",
      "Doing ndim:  10\n",
      "327 ms ± 5.54 ms per loop (mean ± std. dev. of 2 runs, 10 loops each)\n",
      "Doing ndim:  20\n",
      "315 ms ± 6.77 ms per loop (mean ± std. dev. of 2 runs, 10 loops each)\n",
      "Doing ndim:  50\n",
      "305 ms ± 3.35 ms per loop (mean ± std. dev. of 2 runs, 10 loops each)\n",
      "Doing ndim:  100\n",
      "338 ms ± 936 µs per loop (mean ± std. dev. of 2 runs, 10 loops each)\n",
      "Doing ndim:  200\n",
      "422 ms ± 37 ms per loop (mean ± std. dev. of 2 runs, 10 loops each)\n",
      "Doing ndim:  500\n",
      "462 ms ± 24.6 ms per loop (mean ± std. dev. of 2 runs, 10 loops each)\n",
      "Doing ndim:  800\n",
      "558 ms ± 1.68 ms per loop (mean ± std. dev. of 2 runs, 10 loops each)\n",
      "Doing ndim:  1000\n",
      "599 ms ± 5.96 ms per loop (mean ± std. dev. of 2 runs, 10 loops each)\n"
     ]
    },
    {
     "data": {
      "text/html": [
       "<div>\n",
       "<style scoped>\n",
       "    .dataframe tbody tr th:only-of-type {\n",
       "        vertical-align: middle;\n",
       "    }\n",
       "\n",
       "    .dataframe tbody tr th {\n",
       "        vertical-align: top;\n",
       "    }\n",
       "\n",
       "    .dataframe thead th {\n",
       "        text-align: right;\n",
       "    }\n",
       "</style>\n",
       "<table border=\"1\" class=\"dataframe\">\n",
       "  <thead>\n",
       "    <tr style=\"text-align: right;\">\n",
       "      <th></th>\n",
       "      <th>n_dim</th>\n",
       "      <th>avg_time</th>\n",
       "      <th>std_dev</th>\n",
       "    </tr>\n",
       "  </thead>\n",
       "  <tbody>\n",
       "    <tr>\n",
       "      <th>0</th>\n",
       "      <td>3</td>\n",
       "      <td>0.351717</td>\n",
       "      <td>0.052392</td>\n",
       "    </tr>\n",
       "    <tr>\n",
       "      <th>1</th>\n",
       "      <td>10</td>\n",
       "      <td>0.326859</td>\n",
       "      <td>0.005543</td>\n",
       "    </tr>\n",
       "    <tr>\n",
       "      <th>2</th>\n",
       "      <td>20</td>\n",
       "      <td>0.314569</td>\n",
       "      <td>0.006773</td>\n",
       "    </tr>\n",
       "    <tr>\n",
       "      <th>3</th>\n",
       "      <td>50</td>\n",
       "      <td>0.305353</td>\n",
       "      <td>0.003351</td>\n",
       "    </tr>\n",
       "    <tr>\n",
       "      <th>4</th>\n",
       "      <td>100</td>\n",
       "      <td>0.338454</td>\n",
       "      <td>0.000936</td>\n",
       "    </tr>\n",
       "    <tr>\n",
       "      <th>5</th>\n",
       "      <td>200</td>\n",
       "      <td>0.422175</td>\n",
       "      <td>0.037019</td>\n",
       "    </tr>\n",
       "    <tr>\n",
       "      <th>6</th>\n",
       "      <td>500</td>\n",
       "      <td>0.461523</td>\n",
       "      <td>0.024631</td>\n",
       "    </tr>\n",
       "    <tr>\n",
       "      <th>7</th>\n",
       "      <td>800</td>\n",
       "      <td>0.557848</td>\n",
       "      <td>0.001678</td>\n",
       "    </tr>\n",
       "    <tr>\n",
       "      <th>8</th>\n",
       "      <td>1000</td>\n",
       "      <td>0.599488</td>\n",
       "      <td>0.005965</td>\n",
       "    </tr>\n",
       "  </tbody>\n",
       "</table>\n",
       "</div>"
      ],
      "text/plain": [
       "   n_dim  avg_time   std_dev\n",
       "0      3  0.351717  0.052392\n",
       "1     10  0.326859  0.005543\n",
       "2     20  0.314569  0.006773\n",
       "3     50  0.305353  0.003351\n",
       "4    100  0.338454  0.000936\n",
       "5    200  0.422175  0.037019\n",
       "6    500  0.461523  0.024631\n",
       "7    800  0.557848  0.001678\n",
       "8   1000  0.599488  0.005965"
      ]
     },
     "execution_count": 20,
     "metadata": {},
     "output_type": "execute_result"
    }
   ],
   "source": [
    "timings_julia = scaling_dimensions(ndims,\n",
    "                                   version=run_gao_julia,\n",
    "                                   popsize=popsize,\n",
    "                                   generations=generations)\n",
    "timings_julia"
   ]
  },
  {
   "cell_type": "markdown",
   "metadata": {},
   "source": [
    "### Timings"
   ]
  },
  {
   "cell_type": "code",
   "execution_count": 58,
   "metadata": {},
   "outputs": [
    {
     "data": {
      "image/png": "[encoded data removed]",
      "text/plain": [
       "<Figure size 640x480 with 1 Axes>"
      ]
     },
     "metadata": {},
     "output_type": "display_data"
    }
   ],
   "source": [
    "plt.plot(timings_py['n_dim'].values, timings_py['avg_time'].values, label='Python', marker='o')\n",
    "plt.plot(timings_numba['n_dim'].values, timings_numba['avg_time'].values, label='Numba', marker='o')\n",
    "plt.plot(timings_cython['n_dim'].values, timings_cython['avg_time'].values, label='Cython', marker='o')\n",
    "plt.plot(timings_julia['n_dim'].values, timings_julia['avg_time'].values, label='Julia', marker='o')\n",
    "plt.xlabel(\"Number of parameters\")\n",
    "plt.ylabel(\"Average time (seconds)\")\n",
    "plt.legend(loc=0)\n",
    "plt.xscale('log')\n",
    "plt.show()"
   ]
  },
  {
   "cell_type": "markdown",
   "metadata": {},
   "source": [
    "### Relative speedup"
   ]
  },
  {
   "cell_type": "code",
   "execution_count": 53,
   "metadata": {},
   "outputs": [
    {
     "data": {
      "image/png": "[encoded data removed]",
      "text/plain": [
       "<Figure size 640x480 with 1 Axes>"
      ]
     },
     "metadata": {},
     "output_type": "display_data"
    }
   ],
   "source": [
    "py_o_py = timings_py['avg_time'].values/timings_py['avg_time'].values\n",
    "plt.plot(timings_py['n_dim'].values, py_o_py, label='Python/Python', linestyle='--')\n",
    "py_o_n = timings_py['avg_time'].values/timings_numba['avg_time'].values\n",
    "plt.plot(timings_py['n_dim'].values, py_o_n, label='Numba/Python', marker='o')\n",
    "py_o_c = timings_py['avg_time'].values/timings_cython['avg_time'].values\n",
    "plt.plot(timings_numba['n_dim'].values, py_o_c, label='Cython/Python', marker='o')\n",
    "py_o_j = timings_py['avg_time'].values/timings_julia['avg_time'].values\n",
    "plt.plot(timings_py['n_dim'].values, py_o_j, label='Julia/Python', marker='o')\n",
    "# c_o_n = timings_cython['avg_time'].values/timings_numba['avg_time'].values\n",
    "# plt.plot(timings_cython['n_dim'].values, c_o_n, label='Numba/Cython')\n",
    "plt.xlabel(\"Number of parameters\")\n",
    "plt.ylabel(\"Speedup Factor\")\n",
    "plt.legend(loc=0)\n",
    "plt.ylim((0.1,100))\n",
    "plt.yscale('log')\n",
    "plt.xscale('log')\n",
    "plt.show()"
   ]
  },
  {
   "cell_type": "markdown",
   "metadata": {},
   "source": [
    "### Summary/Discussion\n",
    "\n",
    "The Numba and Cython versions exhibit similar performance, with the Numba version just edging out the Cython one for larger numbers of parameters (>100). Both outperform the the Python-only implementation by roughly 2-30x across the sampled numbers of parameters for this benchmark case, with bigger gains at larger numbers of parameters. These results are consistent with results I collected a few years ago on a different machine and with a different benchmark problem: [gao_implementation_scaling_comparison.ipynb](https://github.com/blakeaw/galibrate_performance_comparison/blob/master/gao_implementation_scaling_comparison.ipynb) \n",
    "\n",
    "The newest version which ports key functions to Julia also outperforms the Python version, but only when the number of parameters is large (roughly >=100). Presumably, the Julia functions incur some added overhead for the type inference and translation of data types between Python and Julia that contributes to loss of performance at smaller numbers of parameters. Regardless, the roughly 4-5x speedup at the largest number of parameters sampled is still a notable improvement over the Python version. However, the Numba and Cython versions still offer the best performance.    \n",
    "\n"
   ]
  },
  {
   "cell_type": "markdown",
   "metadata": {},
   "source": [
    "------"
   ]
  },
  {
   "cell_type": "markdown",
   "metadata": {},
   "source": [
    "## Scaling with population size\n",
    "\n",
    "Now let's examine the scaling with the population size while holding the number of parameters and number of generations fixed."
   ]
  },
  {
   "cell_type": "code",
   "execution_count": 33,
   "metadata": {},
   "outputs": [],
   "source": [
    "# Define the parameters for the GAO.\n",
    "# We'll fix the number of parameters at 100:\n",
    "ndim = 100\n",
    "# And the number of generations also to 100:\n",
    "generations = 100\n",
    "# Here, we are scaling the population size.\n",
    "# We'll consider a population size up to 10000,\n",
    "# which in this case is up 100x the number of parameters.\n",
    "popsizes = list([8, 48, 100, 200, 500, 1000, 10000])"
   ]
  },
  {
   "cell_type": "code",
   "execution_count": 34,
   "metadata": {},
   "outputs": [],
   "source": [
    "def scaling_population(popsizes, version=None, ndim=100, generations=100):\n",
    "    if version is not None:\n",
    "        gao.run_gao = version\n",
    "    timings = dict()\n",
    "    timings['pop_size'] = list()\n",
    "    timings['avg_time'] = list()\n",
    "    timings['std_dev'] = list()\n",
    "    # Loop over the population sizes\n",
    "    for ps in popsizes:\n",
    "        print(\"Doing popsize: \", ps)\n",
    "        timings['pop_size'].append(ps)\n",
    "        sampled_parameters = [SampledParameter(name=i, loc=-100.0, width=200.0) for i in range(ndim)]\n",
    "        go = gao.GAO(sampled_parameters, fitness, ps, generations=generations)\n",
    "        #print(ndim, popsize, gen)\n",
    "        ti = %timeit -n 10 -r 2 -o -q go.run()\n",
    "        timings['avg_time'].append(ti.average)\n",
    "        timings['std_dev'].append(ti.stdev)\n",
    "        print(ti)\n",
    "    timings = pd.DataFrame(timings)\n",
    "    return timings"
   ]
  },
  {
   "cell_type": "code",
   "execution_count": 35,
   "metadata": {},
   "outputs": [
    {
     "name": "stdout",
     "output_type": "stream",
     "text": [
      "Doing popsize:  8\n",
      "50.4 ms ± 703 µs per loop (mean ± std. dev. of 2 runs, 10 loops each)\n",
      "Doing popsize:  48\n",
      "196 ms ± 503 µs per loop (mean ± std. dev. of 2 runs, 10 loops each)\n",
      "Doing popsize:  100\n",
      "438 ms ± 32 ms per loop (mean ± std. dev. of 2 runs, 10 loops each)\n",
      "Doing popsize:  200\n",
      "830 ms ± 21.1 ms per loop (mean ± std. dev. of 2 runs, 10 loops each)\n",
      "Doing popsize:  500\n",
      "1.96 s ± 23.6 ms per loop (mean ± std. dev. of 2 runs, 10 loops each)\n",
      "Doing popsize:  1000\n",
      "3.99 s ± 62.1 ms per loop (mean ± std. dev. of 2 runs, 10 loops each)\n",
      "Doing popsize:  10000\n",
      "40.9 s ± 70.7 ms per loop (mean ± std. dev. of 2 runs, 10 loops each)\n"
     ]
    },
    {
     "data": {
      "text/html": [
       "<div>\n",
       "<style scoped>\n",
       "    .dataframe tbody tr th:only-of-type {\n",
       "        vertical-align: middle;\n",
       "    }\n",
       "\n",
       "    .dataframe tbody tr th {\n",
       "        vertical-align: top;\n",
       "    }\n",
       "\n",
       "    .dataframe thead th {\n",
       "        text-align: right;\n",
       "    }\n",
       "</style>\n",
       "<table border=\"1\" class=\"dataframe\">\n",
       "  <thead>\n",
       "    <tr style=\"text-align: right;\">\n",
       "      <th></th>\n",
       "      <th>pop_size</th>\n",
       "      <th>avg_time</th>\n",
       "      <th>std_dev</th>\n",
       "    </tr>\n",
       "  </thead>\n",
       "  <tbody>\n",
       "    <tr>\n",
       "      <th>0</th>\n",
       "      <td>8</td>\n",
       "      <td>0.050438</td>\n",
       "      <td>0.000703</td>\n",
       "    </tr>\n",
       "    <tr>\n",
       "      <th>1</th>\n",
       "      <td>48</td>\n",
       "      <td>0.196262</td>\n",
       "      <td>0.000503</td>\n",
       "    </tr>\n",
       "    <tr>\n",
       "      <th>2</th>\n",
       "      <td>100</td>\n",
       "      <td>0.438162</td>\n",
       "      <td>0.031981</td>\n",
       "    </tr>\n",
       "    <tr>\n",
       "      <th>3</th>\n",
       "      <td>200</td>\n",
       "      <td>0.830432</td>\n",
       "      <td>0.021143</td>\n",
       "    </tr>\n",
       "    <tr>\n",
       "      <th>4</th>\n",
       "      <td>500</td>\n",
       "      <td>1.963161</td>\n",
       "      <td>0.023637</td>\n",
       "    </tr>\n",
       "    <tr>\n",
       "      <th>5</th>\n",
       "      <td>1000</td>\n",
       "      <td>3.994753</td>\n",
       "      <td>0.062105</td>\n",
       "    </tr>\n",
       "    <tr>\n",
       "      <th>6</th>\n",
       "      <td>10000</td>\n",
       "      <td>40.864540</td>\n",
       "      <td>0.070684</td>\n",
       "    </tr>\n",
       "  </tbody>\n",
       "</table>\n",
       "</div>"
      ],
      "text/plain": [
       "   pop_size   avg_time   std_dev\n",
       "0         8   0.050438  0.000703\n",
       "1        48   0.196262  0.000503\n",
       "2       100   0.438162  0.031981\n",
       "3       200   0.830432  0.021143\n",
       "4       500   1.963161  0.023637\n",
       "5      1000   3.994753  0.062105\n",
       "6     10000  40.864540  0.070684"
      ]
     },
     "execution_count": 35,
     "metadata": {},
     "output_type": "execute_result"
    }
   ],
   "source": [
    "timings_py_pop = scaling_population(popsizes, version=run_gao_py, ndim=ndim, generations=generations)\n",
    "timings_py_pop"
   ]
  },
  {
   "cell_type": "code",
   "execution_count": 36,
   "metadata": {},
   "outputs": [
    {
     "name": "stdout",
     "output_type": "stream",
     "text": [
      "Doing popsize:  8\n",
      "13.1 ms ± 98.7 µs per loop (mean ± std. dev. of 2 runs, 10 loops each)\n",
      "Doing popsize:  48\n",
      "32.3 ms ± 3.63 ms per loop (mean ± std. dev. of 2 runs, 10 loops each)\n",
      "Doing popsize:  100\n",
      "58 ms ± 900 µs per loop (mean ± std. dev. of 2 runs, 10 loops each)\n",
      "Doing popsize:  200\n",
      "123 ms ± 4.34 ms per loop (mean ± std. dev. of 2 runs, 10 loops each)\n",
      "Doing popsize:  500\n",
      "208 ms ± 8.56 ms per loop (mean ± std. dev. of 2 runs, 10 loops each)\n",
      "Doing popsize:  1000\n",
      "414 ms ± 14.5 ms per loop (mean ± std. dev. of 2 runs, 10 loops each)\n",
      "Doing popsize:  10000\n",
      "4.27 s ± 43.5 ms per loop (mean ± std. dev. of 2 runs, 10 loops each)\n"
     ]
    },
    {
     "data": {
      "text/html": [
       "<div>\n",
       "<style scoped>\n",
       "    .dataframe tbody tr th:only-of-type {\n",
       "        vertical-align: middle;\n",
       "    }\n",
       "\n",
       "    .dataframe tbody tr th {\n",
       "        vertical-align: top;\n",
       "    }\n",
       "\n",
       "    .dataframe thead th {\n",
       "        text-align: right;\n",
       "    }\n",
       "</style>\n",
       "<table border=\"1\" class=\"dataframe\">\n",
       "  <thead>\n",
       "    <tr style=\"text-align: right;\">\n",
       "      <th></th>\n",
       "      <th>pop_size</th>\n",
       "      <th>avg_time</th>\n",
       "      <th>std_dev</th>\n",
       "    </tr>\n",
       "  </thead>\n",
       "  <tbody>\n",
       "    <tr>\n",
       "      <th>0</th>\n",
       "      <td>8</td>\n",
       "      <td>0.013127</td>\n",
       "      <td>0.000099</td>\n",
       "    </tr>\n",
       "    <tr>\n",
       "      <th>1</th>\n",
       "      <td>48</td>\n",
       "      <td>0.032316</td>\n",
       "      <td>0.003629</td>\n",
       "    </tr>\n",
       "    <tr>\n",
       "      <th>2</th>\n",
       "      <td>100</td>\n",
       "      <td>0.057962</td>\n",
       "      <td>0.000900</td>\n",
       "    </tr>\n",
       "    <tr>\n",
       "      <th>3</th>\n",
       "      <td>200</td>\n",
       "      <td>0.123138</td>\n",
       "      <td>0.004339</td>\n",
       "    </tr>\n",
       "    <tr>\n",
       "      <th>4</th>\n",
       "      <td>500</td>\n",
       "      <td>0.208480</td>\n",
       "      <td>0.008564</td>\n",
       "    </tr>\n",
       "    <tr>\n",
       "      <th>5</th>\n",
       "      <td>1000</td>\n",
       "      <td>0.413525</td>\n",
       "      <td>0.014509</td>\n",
       "    </tr>\n",
       "    <tr>\n",
       "      <th>6</th>\n",
       "      <td>10000</td>\n",
       "      <td>4.272179</td>\n",
       "      <td>0.043517</td>\n",
       "    </tr>\n",
       "  </tbody>\n",
       "</table>\n",
       "</div>"
      ],
      "text/plain": [
       "   pop_size  avg_time   std_dev\n",
       "0         8  0.013127  0.000099\n",
       "1        48  0.032316  0.003629\n",
       "2       100  0.057962  0.000900\n",
       "3       200  0.123138  0.004339\n",
       "4       500  0.208480  0.008564\n",
       "5      1000  0.413525  0.014509\n",
       "6     10000  4.272179  0.043517"
      ]
     },
     "execution_count": 36,
     "metadata": {},
     "output_type": "execute_result"
    }
   ],
   "source": [
    "timings_numba_pop = scaling_population(popsizes, version=run_gao_numba, ndim=ndim, generations=generations)\n",
    "timings_numba_pop"
   ]
  },
  {
   "cell_type": "code",
   "execution_count": 37,
   "metadata": {},
   "outputs": [
    {
     "name": "stdout",
     "output_type": "stream",
     "text": [
      "Doing popsize:  8\n",
      "12.7 ms ± 1.54 ms per loop (mean ± std. dev. of 2 runs, 10 loops each)\n",
      "Doing popsize:  48\n",
      "38.5 ms ± 151 µs per loop (mean ± std. dev. of 2 runs, 10 loops each)\n",
      "Doing popsize:  100\n",
      "60.7 ms ± 1.42 ms per loop (mean ± std. dev. of 2 runs, 10 loops each)\n",
      "Doing popsize:  200\n",
      "118 ms ± 775 µs per loop (mean ± std. dev. of 2 runs, 10 loops each)\n",
      "Doing popsize:  500\n",
      "279 ms ± 993 µs per loop (mean ± std. dev. of 2 runs, 10 loops each)\n",
      "Doing popsize:  1000\n",
      "579 ms ± 59.2 ms per loop (mean ± std. dev. of 2 runs, 10 loops each)\n",
      "Doing popsize:  10000\n",
      "5.72 s ± 51 ms per loop (mean ± std. dev. of 2 runs, 10 loops each)\n"
     ]
    },
    {
     "data": {
      "text/html": [
       "<div>\n",
       "<style scoped>\n",
       "    .dataframe tbody tr th:only-of-type {\n",
       "        vertical-align: middle;\n",
       "    }\n",
       "\n",
       "    .dataframe tbody tr th {\n",
       "        vertical-align: top;\n",
       "    }\n",
       "\n",
       "    .dataframe thead th {\n",
       "        text-align: right;\n",
       "    }\n",
       "</style>\n",
       "<table border=\"1\" class=\"dataframe\">\n",
       "  <thead>\n",
       "    <tr style=\"text-align: right;\">\n",
       "      <th></th>\n",
       "      <th>pop_size</th>\n",
       "      <th>avg_time</th>\n",
       "      <th>std_dev</th>\n",
       "    </tr>\n",
       "  </thead>\n",
       "  <tbody>\n",
       "    <tr>\n",
       "      <th>0</th>\n",
       "      <td>8</td>\n",
       "      <td>0.012695</td>\n",
       "      <td>0.001539</td>\n",
       "    </tr>\n",
       "    <tr>\n",
       "      <th>1</th>\n",
       "      <td>48</td>\n",
       "      <td>0.038504</td>\n",
       "      <td>0.000151</td>\n",
       "    </tr>\n",
       "    <tr>\n",
       "      <th>2</th>\n",
       "      <td>100</td>\n",
       "      <td>0.060670</td>\n",
       "      <td>0.001420</td>\n",
       "    </tr>\n",
       "    <tr>\n",
       "      <th>3</th>\n",
       "      <td>200</td>\n",
       "      <td>0.118443</td>\n",
       "      <td>0.000775</td>\n",
       "    </tr>\n",
       "    <tr>\n",
       "      <th>4</th>\n",
       "      <td>500</td>\n",
       "      <td>0.279283</td>\n",
       "      <td>0.000993</td>\n",
       "    </tr>\n",
       "    <tr>\n",
       "      <th>5</th>\n",
       "      <td>1000</td>\n",
       "      <td>0.579013</td>\n",
       "      <td>0.059193</td>\n",
       "    </tr>\n",
       "    <tr>\n",
       "      <th>6</th>\n",
       "      <td>10000</td>\n",
       "      <td>5.721115</td>\n",
       "      <td>0.050956</td>\n",
       "    </tr>\n",
       "  </tbody>\n",
       "</table>\n",
       "</div>"
      ],
      "text/plain": [
       "   pop_size  avg_time   std_dev\n",
       "0         8  0.012695  0.001539\n",
       "1        48  0.038504  0.000151\n",
       "2       100  0.060670  0.001420\n",
       "3       200  0.118443  0.000775\n",
       "4       500  0.279283  0.000993\n",
       "5      1000  0.579013  0.059193\n",
       "6     10000  5.721115  0.050956"
      ]
     },
     "execution_count": 37,
     "metadata": {},
     "output_type": "execute_result"
    }
   ],
   "source": [
    "timings_cython_pop = scaling_population(popsizes, version=run_gao_cython, ndim=ndim, generations=generations)\n",
    "timings_cython_pop"
   ]
  },
  {
   "cell_type": "code",
   "execution_count": 38,
   "metadata": {},
   "outputs": [
    {
     "name": "stdout",
     "output_type": "stream",
     "text": [
      "Doing popsize:  8\n",
      "269 ms ± 1.2 ms per loop (mean ± std. dev. of 2 runs, 10 loops each)\n",
      "Doing popsize:  48\n",
      "288 ms ± 3.2 ms per loop (mean ± std. dev. of 2 runs, 10 loops each)\n",
      "Doing popsize:  100\n",
      "352 ms ± 21.8 ms per loop (mean ± std. dev. of 2 runs, 10 loops each)\n",
      "Doing popsize:  200\n",
      "451 ms ± 23.4 ms per loop (mean ± std. dev. of 2 runs, 10 loops each)\n",
      "Doing popsize:  500\n",
      "682 ms ± 13.2 ms per loop (mean ± std. dev. of 2 runs, 10 loops each)\n",
      "Doing popsize:  1000\n",
      "1.15 s ± 66.2 ms per loop (mean ± std. dev. of 2 runs, 10 loops each)\n",
      "Doing popsize:  10000\n",
      "9.44 s ± 192 ms per loop (mean ± std. dev. of 2 runs, 10 loops each)\n"
     ]
    },
    {
     "data": {
      "text/html": [
       "<div>\n",
       "<style scoped>\n",
       "    .dataframe tbody tr th:only-of-type {\n",
       "        vertical-align: middle;\n",
       "    }\n",
       "\n",
       "    .dataframe tbody tr th {\n",
       "        vertical-align: top;\n",
       "    }\n",
       "\n",
       "    .dataframe thead th {\n",
       "        text-align: right;\n",
       "    }\n",
       "</style>\n",
       "<table border=\"1\" class=\"dataframe\">\n",
       "  <thead>\n",
       "    <tr style=\"text-align: right;\">\n",
       "      <th></th>\n",
       "      <th>pop_size</th>\n",
       "      <th>avg_time</th>\n",
       "      <th>std_dev</th>\n",
       "    </tr>\n",
       "  </thead>\n",
       "  <tbody>\n",
       "    <tr>\n",
       "      <th>0</th>\n",
       "      <td>8</td>\n",
       "      <td>0.269165</td>\n",
       "      <td>0.001201</td>\n",
       "    </tr>\n",
       "    <tr>\n",
       "      <th>1</th>\n",
       "      <td>48</td>\n",
       "      <td>0.288260</td>\n",
       "      <td>0.003200</td>\n",
       "    </tr>\n",
       "    <tr>\n",
       "      <th>2</th>\n",
       "      <td>100</td>\n",
       "      <td>0.351955</td>\n",
       "      <td>0.021752</td>\n",
       "    </tr>\n",
       "    <tr>\n",
       "      <th>3</th>\n",
       "      <td>200</td>\n",
       "      <td>0.451238</td>\n",
       "      <td>0.023399</td>\n",
       "    </tr>\n",
       "    <tr>\n",
       "      <th>4</th>\n",
       "      <td>500</td>\n",
       "      <td>0.681945</td>\n",
       "      <td>0.013154</td>\n",
       "    </tr>\n",
       "    <tr>\n",
       "      <th>5</th>\n",
       "      <td>1000</td>\n",
       "      <td>1.147224</td>\n",
       "      <td>0.066170</td>\n",
       "    </tr>\n",
       "    <tr>\n",
       "      <th>6</th>\n",
       "      <td>10000</td>\n",
       "      <td>9.438376</td>\n",
       "      <td>0.192466</td>\n",
       "    </tr>\n",
       "  </tbody>\n",
       "</table>\n",
       "</div>"
      ],
      "text/plain": [
       "   pop_size  avg_time   std_dev\n",
       "0         8  0.269165  0.001201\n",
       "1        48  0.288260  0.003200\n",
       "2       100  0.351955  0.021752\n",
       "3       200  0.451238  0.023399\n",
       "4       500  0.681945  0.013154\n",
       "5      1000  1.147224  0.066170\n",
       "6     10000  9.438376  0.192466"
      ]
     },
     "execution_count": 38,
     "metadata": {},
     "output_type": "execute_result"
    }
   ],
   "source": [
    "timings_julia_pop = scaling_population(popsizes, version=run_gao_julia, ndim=ndim, generations=generations)\n",
    "timings_julia_pop"
   ]
  },
  {
   "cell_type": "markdown",
   "metadata": {},
   "source": [
    "### Timings"
   ]
  },
  {
   "cell_type": "code",
   "execution_count": 62,
   "metadata": {},
   "outputs": [
    {
     "data": {
      "image/png": "[encoded data removed]",
      "text/plain": [
       "<Figure size 640x480 with 1 Axes>"
      ]
     },
     "metadata": {},
     "output_type": "display_data"
    }
   ],
   "source": [
    "plt.plot(timings_py_pop['pop_size'].values, timings_py_pop['avg_time'].values, label='Python', marker='o')\n",
    "plt.plot(timings_numba_pop['pop_size'].values, timings_numba_pop['avg_time'].values, label='Numba', marker='o')\n",
    "plt.plot(timings_cython_pop['pop_size'].values, timings_cython_pop['avg_time'].values, label='Cython', marker='o')\n",
    "plt.plot(timings_julia_pop['pop_size'].values, timings_julia_pop['avg_time'].values, label='Julia', marker='o')\n",
    "plt.xlabel(\"Population Size\")\n",
    "plt.ylabel(\"Average time (seconds)\")\n",
    "plt.xscale('log')\n",
    "plt.yscale('log')\n",
    "plt.legend(loc=0)\n",
    "plt.show()"
   ]
  },
  {
   "cell_type": "markdown",
   "metadata": {},
   "source": [
    "### Relative speedup"
   ]
  },
  {
   "cell_type": "code",
   "execution_count": 56,
   "metadata": {},
   "outputs": [
    {
     "data": {
      "image/png": "[encoded data removed]",
      "text/plain": [
       "<Figure size 640x480 with 1 Axes>"
      ]
     },
     "metadata": {},
     "output_type": "display_data"
    }
   ],
   "source": [
    "py_o_py = timings_py_pop['avg_time'].values/timings_py_pop['avg_time'].values\n",
    "plt.plot(timings_py_pop['pop_size'].values, py_o_py, label='Python/Python', linestyle='--')\n",
    "py_o_n = timings_py_pop['avg_time'].values/timings_numba_pop['avg_time'].values\n",
    "plt.plot(timings_py_pop['pop_size'].values, py_o_n, label='Numba/Python', marker='o')\n",
    "py_o_c = timings_py_pop['avg_time'].values/timings_cython_pop['avg_time'].values\n",
    "plt.plot(timings_numba_pop['pop_size'].values, py_o_c, label='Cython/Python', marker='o')\n",
    "py_o_j = timings_py_pop['avg_time'].values/timings_julia_pop['avg_time'].values\n",
    "plt.plot(timings_py_pop['pop_size'].values, py_o_j, label='Julia/Python', marker='o')\n",
    "plt.xlabel(\"Population Size\")\n",
    "plt.ylabel(\"Speedup Factor\")\n",
    "plt.ylim((0.1,100))\n",
    "plt.yscale('log')\n",
    "plt.xscale('log')\n",
    "plt.legend(loc=0)\n",
    "plt.show()"
   ]
  },
  {
   "cell_type": "markdown",
   "metadata": {},
   "source": [
    "### Summary/Discussion\n",
    "\n",
    "As with scaling the number of parameters, the Numba and Cython versions exhibit the best performance in all cases. Here too they have similar performance, with the Numba version just edging out the Cython one for larger population sizes (>=500). In this case, both outperform the Python-only implementation by roughly 3-10x across the sampled population sizes for this benchmark case, with bigger gains at larger population sizes. Again, pretty comparable with results I collected a few years ago on a different machine and with a different benchmark problem: [gao_implementation_scaling_comparison.ipynb](https://github.com/blakeaw/galibrate_performance_comparison/blob/master/gao_implementation_scaling_comparison.ipynb) \n",
    "\n",
    "Here, the Julia version outperforms the Python version when the population size is >=100 and achieves a maximum gain of roughly 3x. Below that range of population size, the added overhead of calling the Julia functions again leads to a relative loss of performance. "
   ]
  },
  {
   "cell_type": "markdown",
   "metadata": {},
   "source": [
    "------"
   ]
  },
  {
   "cell_type": "markdown",
   "metadata": {},
   "source": [
    "## Scaling with the number of generations\n",
    "\n",
    "Finally, let's examine the scaling with the number of generations while holding the number of parameters and population size fixed."
   ]
  },
  {
   "cell_type": "code",
   "execution_count": 44,
   "metadata": {},
   "outputs": [],
   "source": [
    "# Define the parameters for the GAO.\n",
    "# We'll fix the number of parameters at 100:\n",
    "ndim = 100\n",
    "# And the population size to 1000 (10x ndim):\n",
    "popsize = 1000\n",
    "# Here, we are scaling the number of generations.\n",
    "# We'll consider up to 200 generations.\n",
    "ngenerations = list([10, 50, 100, 200])"
   ]
  },
  {
   "cell_type": "code",
   "execution_count": 45,
   "metadata": {},
   "outputs": [],
   "source": [
    "def scaling_generations(ngenerations, version=None, ndim=100, popsize=100):\n",
    "    if version is not None:\n",
    "        gao.run_gao = version\n",
    "    timings = dict()\n",
    "    timings['n_generations'] = list()\n",
    "    timings['avg_time'] = list()\n",
    "    timings['std_dev'] = list()\n",
    "    # Loop over the dimensionality (number of parameters)\n",
    "    for ngen in ngenerations:\n",
    "        print(\"Doing ngenerations: \", ngen)\n",
    "        timings['n_generations'].append(ngen)\n",
    "        sampled_parameters = [SampledParameter(name=i, loc=-100.0, width=200.0) for i in range(ndim)]\n",
    "        go = gao.GAO(sampled_parameters, fitness, popsize, generations=ngen)\n",
    "        #print(ndim, popsize, gen)\n",
    "        ti = %timeit -n 10 -r 2 -o -q go.run()\n",
    "        timings['avg_time'].append(ti.average)\n",
    "        timings['std_dev'].append(ti.stdev)\n",
    "        print(ti)\n",
    "    timings = pd.DataFrame(timings)\n",
    "    return timings"
   ]
  },
  {
   "cell_type": "code",
   "execution_count": 46,
   "metadata": {},
   "outputs": [
    {
     "name": "stdout",
     "output_type": "stream",
     "text": [
      "Doing ngenerations:  10\n",
      "330 ms ± 476 µs per loop (mean ± std. dev. of 2 runs, 10 loops each)\n",
      "Doing ngenerations:  50\n",
      "1.45 s ± 14.5 ms per loop (mean ± std. dev. of 2 runs, 10 loops each)\n",
      "Doing ngenerations:  100\n",
      "2.83 s ± 14.6 ms per loop (mean ± std. dev. of 2 runs, 10 loops each)\n",
      "Doing ngenerations:  200\n",
      "5.6 s ± 11.4 ms per loop (mean ± std. dev. of 2 runs, 10 loops each)\n"
     ]
    },
    {
     "data": {
      "text/html": [
       "<div>\n",
       "<style scoped>\n",
       "    .dataframe tbody tr th:only-of-type {\n",
       "        vertical-align: middle;\n",
       "    }\n",
       "\n",
       "    .dataframe tbody tr th {\n",
       "        vertical-align: top;\n",
       "    }\n",
       "\n",
       "    .dataframe thead th {\n",
       "        text-align: right;\n",
       "    }\n",
       "</style>\n",
       "<table border=\"1\" class=\"dataframe\">\n",
       "  <thead>\n",
       "    <tr style=\"text-align: right;\">\n",
       "      <th></th>\n",
       "      <th>n_generations</th>\n",
       "      <th>avg_time</th>\n",
       "      <th>std_dev</th>\n",
       "    </tr>\n",
       "  </thead>\n",
       "  <tbody>\n",
       "    <tr>\n",
       "      <th>0</th>\n",
       "      <td>10</td>\n",
       "      <td>0.330030</td>\n",
       "      <td>0.000476</td>\n",
       "    </tr>\n",
       "    <tr>\n",
       "      <th>1</th>\n",
       "      <td>50</td>\n",
       "      <td>1.447979</td>\n",
       "      <td>0.014463</td>\n",
       "    </tr>\n",
       "    <tr>\n",
       "      <th>2</th>\n",
       "      <td>100</td>\n",
       "      <td>2.832689</td>\n",
       "      <td>0.014581</td>\n",
       "    </tr>\n",
       "    <tr>\n",
       "      <th>3</th>\n",
       "      <td>200</td>\n",
       "      <td>5.601019</td>\n",
       "      <td>0.011418</td>\n",
       "    </tr>\n",
       "  </tbody>\n",
       "</table>\n",
       "</div>"
      ],
      "text/plain": [
       "   n_generations  avg_time   std_dev\n",
       "0             10  0.330030  0.000476\n",
       "1             50  1.447979  0.014463\n",
       "2            100  2.832689  0.014581\n",
       "3            200  5.601019  0.011418"
      ]
     },
     "execution_count": 46,
     "metadata": {},
     "output_type": "execute_result"
    }
   ],
   "source": [
    "timings_py_gen = scaling_generations(ngenerations, version=run_gao_py, ndim=ndim, popsize=popsize)\n",
    "timings_py_gen"
   ]
  },
  {
   "cell_type": "code",
   "execution_count": 47,
   "metadata": {},
   "outputs": [
    {
     "name": "stdout",
     "output_type": "stream",
     "text": [
      "Doing ngenerations:  10\n",
      "32.2 ms ± 503 µs per loop (mean ± std. dev. of 2 runs, 10 loops each)\n",
      "Doing ngenerations:  50\n",
      "134 ms ± 1.4 ms per loop (mean ± std. dev. of 2 runs, 10 loops each)\n",
      "Doing ngenerations:  100\n",
      "265 ms ± 4.88 ms per loop (mean ± std. dev. of 2 runs, 10 loops each)\n",
      "Doing ngenerations:  200\n",
      "528 ms ± 1.73 ms per loop (mean ± std. dev. of 2 runs, 10 loops each)\n"
     ]
    },
    {
     "data": {
      "text/html": [
       "<div>\n",
       "<style scoped>\n",
       "    .dataframe tbody tr th:only-of-type {\n",
       "        vertical-align: middle;\n",
       "    }\n",
       "\n",
       "    .dataframe tbody tr th {\n",
       "        vertical-align: top;\n",
       "    }\n",
       "\n",
       "    .dataframe thead th {\n",
       "        text-align: right;\n",
       "    }\n",
       "</style>\n",
       "<table border=\"1\" class=\"dataframe\">\n",
       "  <thead>\n",
       "    <tr style=\"text-align: right;\">\n",
       "      <th></th>\n",
       "      <th>n_generations</th>\n",
       "      <th>avg_time</th>\n",
       "      <th>std_dev</th>\n",
       "    </tr>\n",
       "  </thead>\n",
       "  <tbody>\n",
       "    <tr>\n",
       "      <th>0</th>\n",
       "      <td>10</td>\n",
       "      <td>0.032223</td>\n",
       "      <td>0.000503</td>\n",
       "    </tr>\n",
       "    <tr>\n",
       "      <th>1</th>\n",
       "      <td>50</td>\n",
       "      <td>0.134498</td>\n",
       "      <td>0.001400</td>\n",
       "    </tr>\n",
       "    <tr>\n",
       "      <th>2</th>\n",
       "      <td>100</td>\n",
       "      <td>0.265397</td>\n",
       "      <td>0.004878</td>\n",
       "    </tr>\n",
       "    <tr>\n",
       "      <th>3</th>\n",
       "      <td>200</td>\n",
       "      <td>0.527726</td>\n",
       "      <td>0.001735</td>\n",
       "    </tr>\n",
       "  </tbody>\n",
       "</table>\n",
       "</div>"
      ],
      "text/plain": [
       "   n_generations  avg_time   std_dev\n",
       "0             10  0.032223  0.000503\n",
       "1             50  0.134498  0.001400\n",
       "2            100  0.265397  0.004878\n",
       "3            200  0.527726  0.001735"
      ]
     },
     "execution_count": 47,
     "metadata": {},
     "output_type": "execute_result"
    }
   ],
   "source": [
    "timings_numba_gen = scaling_generations(ngenerations, version=run_gao_numba, ndim=ndim, popsize=popsize)\n",
    "timings_numba_gen"
   ]
  },
  {
   "cell_type": "code",
   "execution_count": 48,
   "metadata": {},
   "outputs": [
    {
     "name": "stdout",
     "output_type": "stream",
     "text": [
      "Doing ngenerations:  10\n",
      "43.2 ms ± 244 µs per loop (mean ± std. dev. of 2 runs, 10 loops each)\n",
      "Doing ngenerations:  50\n",
      "181 ms ± 730 µs per loop (mean ± std. dev. of 2 runs, 10 loops each)\n",
      "Doing ngenerations:  100\n",
      "360 ms ± 10.4 ms per loop (mean ± std. dev. of 2 runs, 10 loops each)\n",
      "Doing ngenerations:  200\n",
      "695 ms ± 5.93 ms per loop (mean ± std. dev. of 2 runs, 10 loops each)\n"
     ]
    },
    {
     "data": {
      "text/html": [
       "<div>\n",
       "<style scoped>\n",
       "    .dataframe tbody tr th:only-of-type {\n",
       "        vertical-align: middle;\n",
       "    }\n",
       "\n",
       "    .dataframe tbody tr th {\n",
       "        vertical-align: top;\n",
       "    }\n",
       "\n",
       "    .dataframe thead th {\n",
       "        text-align: right;\n",
       "    }\n",
       "</style>\n",
       "<table border=\"1\" class=\"dataframe\">\n",
       "  <thead>\n",
       "    <tr style=\"text-align: right;\">\n",
       "      <th></th>\n",
       "      <th>n_generations</th>\n",
       "      <th>avg_time</th>\n",
       "      <th>std_dev</th>\n",
       "    </tr>\n",
       "  </thead>\n",
       "  <tbody>\n",
       "    <tr>\n",
       "      <th>0</th>\n",
       "      <td>10</td>\n",
       "      <td>0.043196</td>\n",
       "      <td>0.000244</td>\n",
       "    </tr>\n",
       "    <tr>\n",
       "      <th>1</th>\n",
       "      <td>50</td>\n",
       "      <td>0.181007</td>\n",
       "      <td>0.000730</td>\n",
       "    </tr>\n",
       "    <tr>\n",
       "      <th>2</th>\n",
       "      <td>100</td>\n",
       "      <td>0.360353</td>\n",
       "      <td>0.010384</td>\n",
       "    </tr>\n",
       "    <tr>\n",
       "      <th>3</th>\n",
       "      <td>200</td>\n",
       "      <td>0.695183</td>\n",
       "      <td>0.005932</td>\n",
       "    </tr>\n",
       "  </tbody>\n",
       "</table>\n",
       "</div>"
      ],
      "text/plain": [
       "   n_generations  avg_time   std_dev\n",
       "0             10  0.043196  0.000244\n",
       "1             50  0.181007  0.000730\n",
       "2            100  0.360353  0.010384\n",
       "3            200  0.695183  0.005932"
      ]
     },
     "execution_count": 48,
     "metadata": {},
     "output_type": "execute_result"
    }
   ],
   "source": [
    "timings_cython_gen = scaling_generations(ngenerations, version=run_gao_cython, ndim=ndim, popsize=popsize)\n",
    "timings_cython_gen"
   ]
  },
  {
   "cell_type": "code",
   "execution_count": 49,
   "metadata": {},
   "outputs": [
    {
     "name": "stdout",
     "output_type": "stream",
     "text": [
      "Doing ngenerations:  10\n",
      "91.7 ms ± 11.7 ms per loop (mean ± std. dev. of 2 runs, 10 loops each)\n",
      "Doing ngenerations:  50\n",
      "369 ms ± 4.97 ms per loop (mean ± std. dev. of 2 runs, 10 loops each)\n",
      "Doing ngenerations:  100\n",
      "692 ms ± 931 µs per loop (mean ± std. dev. of 2 runs, 10 loops each)\n",
      "Doing ngenerations:  200\n",
      "1.45 s ± 32.7 ms per loop (mean ± std. dev. of 2 runs, 10 loops each)\n"
     ]
    },
    {
     "data": {
      "text/html": [
       "<div>\n",
       "<style scoped>\n",
       "    .dataframe tbody tr th:only-of-type {\n",
       "        vertical-align: middle;\n",
       "    }\n",
       "\n",
       "    .dataframe tbody tr th {\n",
       "        vertical-align: top;\n",
       "    }\n",
       "\n",
       "    .dataframe thead th {\n",
       "        text-align: right;\n",
       "    }\n",
       "</style>\n",
       "<table border=\"1\" class=\"dataframe\">\n",
       "  <thead>\n",
       "    <tr style=\"text-align: right;\">\n",
       "      <th></th>\n",
       "      <th>n_generations</th>\n",
       "      <th>avg_time</th>\n",
       "      <th>std_dev</th>\n",
       "    </tr>\n",
       "  </thead>\n",
       "  <tbody>\n",
       "    <tr>\n",
       "      <th>0</th>\n",
       "      <td>10</td>\n",
       "      <td>0.091718</td>\n",
       "      <td>0.011711</td>\n",
       "    </tr>\n",
       "    <tr>\n",
       "      <th>1</th>\n",
       "      <td>50</td>\n",
       "      <td>0.368789</td>\n",
       "      <td>0.004966</td>\n",
       "    </tr>\n",
       "    <tr>\n",
       "      <th>2</th>\n",
       "      <td>100</td>\n",
       "      <td>0.692280</td>\n",
       "      <td>0.000931</td>\n",
       "    </tr>\n",
       "    <tr>\n",
       "      <th>3</th>\n",
       "      <td>200</td>\n",
       "      <td>1.450889</td>\n",
       "      <td>0.032674</td>\n",
       "    </tr>\n",
       "  </tbody>\n",
       "</table>\n",
       "</div>"
      ],
      "text/plain": [
       "   n_generations  avg_time   std_dev\n",
       "0             10  0.091718  0.011711\n",
       "1             50  0.368789  0.004966\n",
       "2            100  0.692280  0.000931\n",
       "3            200  1.450889  0.032674"
      ]
     },
     "execution_count": 49,
     "metadata": {},
     "output_type": "execute_result"
    }
   ],
   "source": [
    "timings_julia_gen = scaling_generations(ngenerations, version=run_gao_julia, ndim=ndim, popsize=popsize)\n",
    "timings_julia_gen"
   ]
  },
  {
   "cell_type": "markdown",
   "metadata": {},
   "source": [
    "### Timings"
   ]
  },
  {
   "cell_type": "code",
   "execution_count": 59,
   "metadata": {},
   "outputs": [
    {
     "data": {
      "image/png": "[encoded data removed]",
      "text/plain": [
       "<Figure size 640x480 with 1 Axes>"
      ]
     },
     "metadata": {},
     "output_type": "display_data"
    }
   ],
   "source": [
    "plt.plot(timings_py_gen['n_generations'].values, timings_py_gen['avg_time'].values, label='Python', marker='o')\n",
    "plt.plot(timings_numba_gen['n_generations'].values, timings_numba_gen['avg_time'].values, label='Numba', marker='o')\n",
    "plt.plot(timings_cython_gen['n_generations'].values, timings_cython_gen['avg_time'].values, label='Cython', marker='o')\n",
    "plt.plot(timings_julia_gen['n_generations'].values, timings_julia_gen['avg_time'].values, label='Julia', marker='o')\n",
    "plt.xlabel(\"Number of Generations\")\n",
    "plt.ylabel(\"Average time (seconds)\")\n",
    "plt.legend(loc=0)\n",
    "plt.show()"
   ]
  },
  {
   "cell_type": "markdown",
   "metadata": {},
   "source": [
    "### Relative speedup"
   ]
  },
  {
   "cell_type": "code",
   "execution_count": 60,
   "metadata": {},
   "outputs": [
    {
     "data": {
      "image/png": "[encoded data removed]",
      "text/plain": [
       "<Figure size 640x480 with 1 Axes>"
      ]
     },
     "metadata": {},
     "output_type": "display_data"
    }
   ],
   "source": [
    "py_o_py = timings_py_gen['avg_time'].values/timings_py_gen['avg_time'].values\n",
    "plt.plot(timings_py_gen['n_generations'].values, py_o_py, label='Python/Python', linestyle='--')\n",
    "py_o_n = timings_py_gen['avg_time'].values/timings_numba_gen['avg_time'].values\n",
    "plt.plot(timings_py_gen['n_generations'].values, py_o_n, label='Numba/Python', marker='o')\n",
    "py_o_c = timings_py_gen['avg_time'].values/timings_cython_gen['avg_time'].values\n",
    "plt.plot(timings_numba_gen['n_generations'].values, py_o_c, label='Cython/Python', marker='o')\n",
    "py_o_j = timings_py_gen['avg_time'].values/timings_julia_gen['avg_time'].values\n",
    "plt.plot(timings_py_gen['n_generations'].values, py_o_j, label='Julia/Python', marker='o')\n",
    "plt.xlabel(\"Number of Generations\")\n",
    "plt.ylabel(\"Speedup Factor\")\n",
    "plt.ylim((0.1,100))\n",
    "plt.yscale('log')\n",
    "plt.xscale('log')\n",
    "plt.legend(loc=0)\n",
    "plt.legend(loc=0)\n",
    "plt.show()"
   ]
  },
  {
   "cell_type": "markdown",
   "metadata": {
    "jp-MarkdownHeadingCollapsed": true
   },
   "source": [
    "### Summary/Discussion\n",
    "\n",
    "Alhtough the total time increases with number of generations, the relative performance isn't really affected by the number of generations. In this case, the relative performance increases are consistently around 10x, 8x, and 3x for the Numba, Cython, and Julia implementations, respectively. As in the other scaling cases, we can see that the Numba and Cython versions perform the best, but the Julia version still has a notable performance increase over the Python version.  \n"
   ]
  },
  {
   "cell_type": "markdown",
   "metadata": {},
   "source": [
    "------\n",
    "------"
   ]
  },
  {
   "cell_type": "markdown",
   "metadata": {},
   "source": [
    "## Summary and Closing Thoughts\n",
    "\n",
    "The analysis here shows that the Numba, Cython, and Julia versions of the GAO can have significantly greater performance than the Python-only version, particularly for large problems (large numbers of parameters and/or population sizes). The Numba and Cython version have comparable performance with the Numba version just mildly outperforming the Cython one for large problems. The Julia version only sees improvement for large problem sizes, with the added overhead of converting data between Pyton and Julia slowing things down some when the numbers of parameters and/or population sizes are small.  \n",
    "\n",
    "In all, the accelearated vesions using Numba, Cython, or Julia can yield relative performance enhancements of anywhere from about 2-30 fold speed increase over the Python-only version depending on the number of model parameters (dimensionality) and choice of GA population size.  \n",
    "\n",
    "In our previous analysis with a different test case (different model and fitness function) we got pretty comparable results in comparing the Python, Numba, and Cython versions: [gao_implementation_scaling_comparison.ipynb](https://github.com/blakeaw/galibrate_performance_comparison/blob/master/gao_implementation_scaling_comparison.ipynb). \n",
    "\n",
    "Based on profiling data, evaluating the fitness function tends to be the major bottleneck. When using the Numba version, it may be possible to JIT the fitness function as well to further improve performance. I may test this further in the future. Also, as of GAlibrate version 0.5.0, the GAO can use multiprocessing-based parallelism when evaluating the fitness function. It would be interesting to more rigorously benchmark the parallel performnace and identify when it may be most helpful. I'm also considering if it may be worth implementing GPU offloading with Numba and its ability to compile CUDA kernels.  "
   ]
  },
  {
   "cell_type": "code",
   "execution_count": null,
   "metadata": {},
   "outputs": [],
   "source": []
  }
 ],
 "metadata": {
  "kernelspec": {
   "display_name": "Python 3 (ipykernel)",
   "language": "python",
   "name": "python3"
  },
  "language_info": {
   "codemirror_mode": {
    "name": "ipython",
    "version": 3
   },
   "file_extension": ".py",
   "mimetype": "text/x-python",
   "name": "python",
   "nbconvert_exporter": "python",
   "pygments_lexer": "ipython3",
   "version": "3.10.11"
  }
 },
 "nbformat": 4,
 "nbformat_minor": 4
}
