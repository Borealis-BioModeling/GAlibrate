{
 "cells": [
  {
   "cell_type": "markdown",
   "metadata": {},
   "source": [
    "# Profiling of GAlibrate's core genetic algorithm implementations\n",
    "\n",
    "In this notebook, we will profile the performance of some of GAlibrates implementations, including the Python, and Numba, versions using cProfile (via the `prun` magic command). Since the Cythonized and Julia-enhanced versions of the GAO port several core functions to non-Python, they aren't captured by cProfile, so we won't try profiling them here.\n",
    "\n",
    "To run this notebook we need to have galibrate installed along with NumPy and Numba.  You also need the microbench package.\n",
    "\n",
    "\n",
    "------\n",
    "\n",
    "## Imports and setup\n",
    "\n",
    "First we'll do all our imports:"
   ]
  },
  {
   "cell_type": "code",
   "execution_count": 2,
   "metadata": {},
   "outputs": [],
   "source": [
    "import numpy as np\n",
    "import numba"
   ]
  },
  {
   "cell_type": "code",
   "execution_count": 3,
   "metadata": {},
   "outputs": [
    {
     "name": "stderr",
     "output_type": "stream",
     "text": [
      "c:\\users\\bwils\\documents\\dev_src\\personal\\galibrate\\galibrate\\gao.py:48: RuntimeWarning: ------Running GAO with numba optimization.------\n",
      "  warnings.warn(\"------Running GAO with numba optimization.------\", RuntimeWarning)\n"
     ]
    }
   ],
   "source": [
    "# galibrate imports\n",
    "import galibrate\n",
    "from galibrate import gao\n",
    "from galibrate.sampled_parameter import SampledParameter"
   ]
  },
  {
   "cell_type": "code",
   "execution_count": 4,
   "metadata": {},
   "outputs": [],
   "source": [
    "#from allversions import *"
   ]
  },
  {
   "cell_type": "code",
   "execution_count": 5,
   "metadata": {},
   "outputs": [],
   "source": [
    "# Manually import each of the run_gao modules -- normally galibrate does this internally\n",
    "# and automatically assigns the version based whether Numba and/or Cython are installed.\n",
    "# Python-only\n",
    "from galibrate import run_gao_py"
   ]
  },
  {
   "cell_type": "code",
   "execution_count": 6,
   "metadata": {},
   "outputs": [],
   "source": [
    "# Numba accelerated\n",
    "from galibrate import run_gao_numba"
   ]
  },
  {
   "cell_type": "markdown",
   "metadata": {},
   "source": [
    "And we'll setup a custom Bench from microbench to capture some key info about the Python version and some of the library versions:"
   ]
  },
  {
   "cell_type": "code",
   "execution_count": 30,
   "metadata": {},
   "outputs": [],
   "source": [
    "# Setup a microbench for meta data collection\n",
    "from microbench import MicroBench, MBCondaPackages, MBHostInfo, MBPythonVersion\n",
    "\n",
    "class GaoBench(MicroBench, MBHostInfo, MBPythonVersion):\n",
    "    capture_versions = (np, numba)\n",
    "\n",
    "   "
   ]
  },
  {
   "cell_type": "code",
   "execution_count": 31,
   "metadata": {},
   "outputs": [],
   "source": [
    "gaobench = GaoBench()\n",
    "\n",
    "@gaobench\n",
    "def meta():\n",
    "    pass\n",
    "    \n",
    "meta() "
   ]
  },
  {
   "cell_type": "code",
   "execution_count": 32,
   "metadata": {},
   "outputs": [],
   "source": [
    "bench_results = pd.read_json(gaobench.outfile.getvalue(), lines=True)"
   ]
  },
  {
   "cell_type": "code",
   "execution_count": 33,
   "metadata": {},
   "outputs": [
    {
     "data": {
      "text/plain": [
       "'3.10.11'"
      ]
     },
     "execution_count": 33,
     "metadata": {},
     "output_type": "execute_result"
    }
   ],
   "source": [
    "# Python version\n",
    "bench_results['python_version'][0]"
   ]
  },
  {
   "cell_type": "code",
   "execution_count": 34,
   "metadata": {},
   "outputs": [
    {
     "name": "stdout",
     "output_type": "stream",
     "text": [
      "{'numpy': '1.23.5', 'numba': '0.56.4'}\n"
     ]
    }
   ],
   "source": [
    "# Here julia is the PyJulia package.\n",
    "for pack in bench_results['package_versions']:\n",
    "    print(pack)"
   ]
  },
  {
   "cell_type": "markdown",
   "metadata": {},
   "source": [
    "#### OS and hardware\n",
    "\n",
    "  * Windows 11 - 64-bit operating system, x64-based processor\n",
    "  * Processor: 11th Gen Intel(R) Core(TM) i7-11800H @ 2.30GHz   2.30 GHz\n",
    "  * RAM: 16.0 GB (15.6 GB usable)"
   ]
  },
  {
   "cell_type": "markdown",
   "metadata": {},
   "source": [
    "## Model problem and fitness function\n",
    "\n",
    "For the purposes of this testing, we'll use the N-dimensional sphere function defined in `galibrate.benchmarks` with a parameter search in \\[-100:100\\].\n",
    "\n",
    "Here is the fitness function:"
   ]
  },
  {
   "cell_type": "code",
   "execution_count": 14,
   "metadata": {},
   "outputs": [],
   "source": [
    "from galibrate.benchmarks import sphere\n",
    "\n",
    "def fitness(chromosome):\n",
    "    return -sphere(chromosome)"
   ]
  },
  {
   "cell_type": "code",
   "execution_count": 17,
   "metadata": {},
   "outputs": [],
   "source": [
    "# Define the parameters for the GAO.\n",
    "# 100 parameters\n",
    "ndim = 100\n",
    "# We'll fix the population size at 100:\n",
    "popsize = 1000\n",
    "# And the number of generations also to 100:\n",
    "generations = 500    \n",
    "# Loop over the dimensionality (number of parameters)\n",
    "#print(\"Profiling: \", version)\n",
    "sampled_parameters = [SampledParameter(name=i, loc=-100.0, width=200.0) for i in range(ndim)]"
   ]
  },
  {
   "cell_type": "markdown",
   "metadata": {},
   "source": [
    "------"
   ]
  },
  {
   "cell_type": "markdown",
   "metadata": {},
   "source": [
    "## Python-only\n",
    "\n",
    "We'll start by examining the profiling of the base Python-only version:"
   ]
  },
  {
   "cell_type": "code",
   "execution_count": 18,
   "metadata": {},
   "outputs": [],
   "source": [
    "gao.run_gao = run_gao_py"
   ]
  },
  {
   "cell_type": "code",
   "execution_count": 19,
   "metadata": {},
   "outputs": [
    {
     "name": "stdout",
     "output_type": "stream",
     "text": [
      " \n",
      "*** Profile printout saved to text file 'cprof.out'.\n"
     ]
    }
   ],
   "source": [
    "%%prun -s cumulative -q -l 20 -T cprof.out\n",
    "\n",
    "go = gao.GAO(sampled_parameters, fitness, popsize, generations=generations)\n",
    "#print(ndim, popsize, gen)\n",
    "go.run()\n"
   ]
  },
  {
   "cell_type": "code",
   "execution_count": 20,
   "metadata": {},
   "outputs": [
    {
     "name": "stdout",
     "output_type": "stream",
     "text": [
      "         33474994 function calls in 20.046 seconds\n",
      "\n",
      "   Ordered by: cumulative time\n",
      "   List reduced from 55 to 20 due to restriction <20>\n",
      "\n",
      "   ncalls  tottime  percall  cumtime  percall filename:lineno(function)\n",
      "        1    0.000    0.000   20.046   20.046 {built-in method builtins.exec}\n",
      "        1    0.000    0.000   20.046   20.046 <string>:1(<module>)\n",
      "        1    0.000    0.000   20.046   20.046 gao.py:136(run)\n",
      "        1    0.849    0.849   20.041   20.041 run_gao_py.py:15(run_gao)\n",
      "      499    6.417    0.013   15.101    0.030 run_gao_py.py:182(mutation)\n",
      " 27693469    8.781    0.000    8.781    0.000 {method 'random' of 'numpy.random.mtrand.RandomState' objects}\n",
      "      500    0.004    0.000    3.165    0.006 run_gao_py.py:27(evaluate_fitnesses)\n",
      "      500    0.189    0.000    3.138    0.006 run_gao_py.py:28(<listcomp>)\n",
      "   501000    0.159    0.000    2.954    0.000 3982212097.py:3(fitness)\n",
      "   501000    0.509    0.000    2.795    0.000 benchmarks.py:15(sphere)\n",
      "   501000    0.216    0.000    2.285    0.000 <__array_function__ internals>:177(sum)\n",
      "   502001    0.188    0.000    2.045    0.000 {built-in method numpy.core._multiarray_umath.implement_array_function}\n",
      "   501000    0.425    0.000    1.830    0.000 fromnumeric.py:2162(sum)\n",
      "   501500    0.446    0.000    1.349    0.000 fromnumeric.py:69(_wrapreduction)\n",
      "   502500    0.693    0.000    0.693    0.000 {method 'reduce' of 'numpy.ufunc' objects}\n",
      "   125000    0.369    0.000    0.524    0.000 run_gao_py.py:165(crossover)\n",
      "      500    0.204    0.000    0.274    0.001 run_gao_py.py:149(choose_mating_pairs)\n",
      "   501500    0.167    0.000    0.167    0.000 fromnumeric.py:70(<dictcomp>)\n",
      "        1    0.083    0.083    0.084    0.084 run_gao_py.py:138(random_population)\n",
      "      500    0.048    0.000    0.064    0.000 {method 'choice' of 'numpy.random.mtrand.RandomState' objects}\n"
     ]
    }
   ],
   "source": [
    "print(open('cprof.out', 'r').read())"
   ]
  },
  {
   "cell_type": "markdown",
   "metadata": {},
   "source": [
    "### Key results\n",
    "\n",
    "We can see of the `run_gao_py` functions (besides `run_gao`) the most expensive are the following:\n",
    "\n",
    "| name | cumtime | percall | tottime | ncalls |\n",
    "| ------ | ------ | ------ | ------ | ------ |\n",
    "| mutation | 15.101 | 0.013 | 6.417 | 499 | \n",
    "| evaluate_fitnesses | 3.165 | 0.000 | 0.004 | 500 |\n",
    "| crossover | 0.524 | 0.000 | 0.369 | 125000 |\n",
    "| choose_mating_pairs | 0.274 | 0.000 | 0.204 | 500 |\n",
    "| random_population | 0.084 | 0.083 | 0.083 | 1 |\n",
    "\n",
    "We can see that applying mutations (`mutation`) and evaluating the fitnesses (`evaluate_fitnesses`) are the major bottlenecks, followed by the crossover operation (`crossover`) and selection of mating pairs (`choose_mating_pairs`). "
   ]
  },
  {
   "cell_type": "markdown",
   "metadata": {},
   "source": [
    "------"
   ]
  },
  {
   "cell_type": "markdown",
   "metadata": {},
   "source": [
    "## Numba version\n",
    "\n",
    "The Numba-enhanced version of the GAO compiles several core functions, including the `mutation` and `crossover` functions. It also encapsulates some of the other parts of the `run_gao` function into compilable functions to try and further improve overall performance. \n"
   ]
  },
  {
   "cell_type": "code",
   "execution_count": 21,
   "metadata": {},
   "outputs": [],
   "source": [
    "gao.run_gao = run_gao_numba"
   ]
  },
  {
   "cell_type": "code",
   "execution_count": 22,
   "metadata": {},
   "outputs": [
    {
     "name": "stdout",
     "output_type": "stream",
     "text": [
      " \n",
      "*** Profile printout saved to text file 'cprof.out'.\n"
     ]
    }
   ],
   "source": [
    "%%prun -s cumulative -q -l 20 -T cprof.out\n",
    "\n",
    "go = gao.GAO(sampled_parameters, fitness, popsize, generations=generations)\n",
    "#print(ndim, popsize, gen)\n",
    "go.run()\n"
   ]
  },
  {
   "cell_type": "code",
   "execution_count": 23,
   "metadata": {},
   "outputs": [
    {
     "name": "stdout",
     "output_type": "stream",
     "text": [
      "         3078193 function calls (3073219 primitive calls) in 2.328 seconds\n",
      "\n",
      "   Ordered by: cumulative time\n",
      "   List reduced from 1389 to 20 due to restriction <20>\n",
      "\n",
      "   ncalls  tottime  percall  cumtime  percall filename:lineno(function)\n",
      "     69/1    0.000    0.000    2.328    2.328 {built-in method builtins.exec}\n",
      "        1    0.000    0.000    2.328    2.328 <string>:1(<module>)\n",
      "        1    0.000    0.000    2.328    2.328 gao.py:136(run)\n",
      "        1    0.017    0.017    2.320    2.320 run_gao_numba.py:17(run_gao)\n",
      "      500    0.000    0.000    1.631    0.003 run_gao_numba.py:43(evaluate_fitnesses)\n",
      "      500    0.129    0.000    1.631    0.003 run_gao_numba.py:179(_compute_fitnesses)\n",
      "   251500    0.077    0.000    1.509    0.000 3982212097.py:3(fitness)\n",
      "   251500    0.261    0.000    1.432    0.000 benchmarks.py:15(sphere)\n",
      "   251500    0.110    0.000    1.171    0.000 <__array_function__ internals>:177(sum)\n",
      "   252501    0.096    0.000    1.058    0.000 {built-in method numpy.core._multiarray_umath.implement_array_function}\n",
      "   251500    0.217    0.000    0.939    0.000 fromnumeric.py:2162(sum)\n",
      "   252000    0.229    0.000    0.695    0.000 fromnumeric.py:69(_wrapreduction)\n",
      "   253000    0.360    0.000    0.360    0.000 {method 'reduce' of 'numpy.ufunc' objects}\n",
      "        7    0.000    0.000    0.318    0.045 dispatcher.py:388(_compile_for_args)\n",
      "        7    0.000    0.000    0.298    0.043 dispatcher.py:915(compile)\n",
      "        7    0.000    0.000    0.296    0.042 caching.py:627(load_overload)\n",
      "    182/7    0.000    0.000    0.235    0.034 base.py:264(refresh)\n",
      "      499    0.197    0.000    0.197    0.000 run_gao_numba.py:263(mutation)\n",
      "3110/2920    0.004    0.000    0.181    0.000 <frozen importlib._bootstrap>:1053(_handle_fromlist)\n",
      "    92/59    0.001    0.000    0.177    0.003 <frozen importlib._bootstrap>:1022(_find_and_load)\n"
     ]
    }
   ],
   "source": [
    "print(open('cprof.out', 'r').read())"
   ]
  },
  {
   "cell_type": "markdown",
   "metadata": {},
   "source": [
    "### Key results\n",
    "\n",
    "We can see for this version, `run_gao_numba`, it is roughly a factor of ten times faster (2.328 s versus 20.046 s):\n",
    "\n",
    "| name | cumtime | percall | tottime | ncalls |\n",
    "| ------ | ------ | ------ | ------ | ------ |\n",
    "| evaluate_fitnesses | 1.631 | 0.000 | 0.000 | 500 |\n",
    "| mutation | 0.197 | 0.000 | 0.197 | 499 |\n",
    "\n",
    "Although the `mutation` function shows up in the list, it has been significantly reduced by > 50x. The remaining major bottleneck is evaluating the fitnesses (`evaluate_fitness`). Interestingly, the cumulative time of the `evaluate_fitness` function is lower in this case (by roughly a factor of 2)."
   ]
  },
  {
   "cell_type": "markdown",
   "metadata": {},
   "source": [
    "------"
   ]
  },
  {
   "cell_type": "code",
   "execution_count": null,
   "metadata": {},
   "outputs": [],
   "source": []
  }
 ],
 "metadata": {
  "kernelspec": {
   "display_name": "Python 3 (ipykernel)",
   "language": "python",
   "name": "python3"
  },
  "language_info": {
   "codemirror_mode": {
    "name": "ipython",
    "version": 3
   },
   "file_extension": ".py",
   "mimetype": "text/x-python",
   "name": "python",
   "nbconvert_exporter": "python",
   "pygments_lexer": "ipython3",
   "version": "3.10.11"
  }
 },
 "nbformat": 4,
 "nbformat_minor": 4
}
